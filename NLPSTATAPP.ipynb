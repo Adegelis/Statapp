{
 "cells": [
  {
   "cell_type": "code",
   "execution_count": 179,
   "metadata": {
    "collapsed": false
   },
   "outputs": [],
   "source": [
    "import time\n",
    "import nltk\n",
    "import pandas as pd\n",
    "import numpy as np\n",
    "from sklearn import linear_model\n",
    "from sklearn.ensemble import RandomForestClassifier\n",
    "from sklearn import metrics"
   ]
  },
  {
   "cell_type": "code",
   "execution_count": 67,
   "metadata": {
    "collapsed": true
   },
   "outputs": [],
   "source": [
    "train=pd.read_csv(\"RCV1.txt\", delim_whitespace=True, skipinitialspace=True, names= ['Word','POStag','CHUNKtag','NEtag'])\n",
    "testa=pd.read_csv(\"testa.txt\", delim_whitespace=True, skipinitialspace=True, names= ['Word','POStag','CHUNKtag','NEtag'])\n",
    "testb=pd.read_csv(\"testb.txt\", delim_whitespace=True, skipinitialspace=True, names= ['Word','POStag','CHUNKtag','NEtag'])"
   ]
  },
  {
   "cell_type": "code",
   "execution_count": 68,
   "metadata": {
    "collapsed": false
   },
   "outputs": [
    {
     "name": "stdout",
     "output_type": "stream",
     "text": [
      "(204567, 4) (51578, 4) (46666, 4)\n"
     ]
    }
   ],
   "source": [
    "print(train.shape,testa.shape,testb.shape)"
   ]
  },
  {
   "cell_type": "code",
   "execution_count": 69,
   "metadata": {
    "collapsed": false
   },
   "outputs": [],
   "source": [
    "train['CHUNKtag'].describe()\n",
    "train = train.dropna()"
   ]
  },
  {
   "cell_type": "code",
   "execution_count": 70,
   "metadata": {
    "collapsed": false,
    "scrolled": false
   },
   "outputs": [
    {
     "data": {
      "text/plain": [
       "(202386, 4)"
      ]
     },
     "execution_count": 70,
     "metadata": {},
     "output_type": "execute_result"
    }
   ],
   "source": [
    "train.shape"
   ]
  },
  {
   "cell_type": "code",
   "execution_count": 137,
   "metadata": {
    "collapsed": false
   },
   "outputs": [
    {
     "data": {
      "text/html": [
       "<div>\n",
       "<table border=\"1\" class=\"dataframe\">\n",
       "  <thead>\n",
       "    <tr style=\"text-align: right;\">\n",
       "      <th></th>\n",
       "      <th>Word</th>\n",
       "      <th>POStag</th>\n",
       "      <th>CHUNKtag</th>\n",
       "      <th>NEtag</th>\n",
       "    </tr>\n",
       "  </thead>\n",
       "  <tbody>\n",
       "    <tr>\n",
       "      <th>0</th>\n",
       "      <td>-DOCSTART-</td>\n",
       "      <td>-X-</td>\n",
       "      <td>-X-</td>\n",
       "      <td>O</td>\n",
       "    </tr>\n",
       "    <tr>\n",
       "      <th>1</th>\n",
       "      <td>CRICKET</td>\n",
       "      <td>NNP</td>\n",
       "      <td>I-NP</td>\n",
       "      <td>O</td>\n",
       "    </tr>\n",
       "    <tr>\n",
       "      <th>2</th>\n",
       "      <td>-</td>\n",
       "      <td>:</td>\n",
       "      <td>O</td>\n",
       "      <td>O</td>\n",
       "    </tr>\n",
       "    <tr>\n",
       "      <th>3</th>\n",
       "      <td>LEICESTERSHIRE</td>\n",
       "      <td>NNP</td>\n",
       "      <td>I-NP</td>\n",
       "      <td>I-ORG</td>\n",
       "    </tr>\n",
       "    <tr>\n",
       "      <th>4</th>\n",
       "      <td>TAKE</td>\n",
       "      <td>NNP</td>\n",
       "      <td>I-NP</td>\n",
       "      <td>O</td>\n",
       "    </tr>\n",
       "  </tbody>\n",
       "</table>\n",
       "</div>"
      ],
      "text/plain": [
       "             Word POStag CHUNKtag  NEtag\n",
       "0      -DOCSTART-    -X-      -X-      O\n",
       "1         CRICKET    NNP     I-NP      O\n",
       "2               -      :        O      O\n",
       "3  LEICESTERSHIRE    NNP     I-NP  I-ORG\n",
       "4            TAKE    NNP     I-NP      O"
      ]
     },
     "execution_count": 137,
     "metadata": {},
     "output_type": "execute_result"
    }
   ],
   "source": [
    "testa.head()"
   ]
  },
  {
   "cell_type": "markdown",
   "metadata": {},
   "source": [
    "# Preprocess train"
   ]
  },
  {
   "cell_type": "code",
   "execution_count": 71,
   "metadata": {
    "collapsed": false
   },
   "outputs": [],
   "source": [
    "sparse = pd.get_dummies(train['NEtag'])\n",
    "sparse.drop(sparse.columns[7], axis=1, inplace=True)\n",
    "train['ORG'] = sparse['I-ORG'] + sparse['B-ORG']\n",
    "train['LOC'] = sparse['I-LOC'] + sparse['B-LOC']\n",
    "train['MISC'] = sparse['I-MISC'] + sparse['B-MISC']\n",
    "train['PER'] = sparse['I-PER']"
   ]
  },
  {
   "cell_type": "code",
   "execution_count": 72,
   "metadata": {
    "collapsed": true
   },
   "outputs": [],
   "source": [
    "gazloc = nltk.corpus.gazetteers.words(fileids=['countries.txt','uscities.txt','usstates.txt','usstateabbrev.txt','mexstates.txt','caprovinces.txt'])\n",
    "gazper = nltk.corpus.names.words(fileids=['male.txt','female.txt'])\n",
    "gazmisc = nltk.corpus.gazetteers.words(fileids=['nationalities.txt'])"
   ]
  },
  {
   "cell_type": "code",
   "execution_count": 73,
   "metadata": {
    "collapsed": false
   },
   "outputs": [],
   "source": [
    "def gazetteer( text , ref ):\n",
    "    res = []\n",
    "    for word in text:\n",
    "        if word in ref :\n",
    "            res.append(1)\n",
    "        else :\n",
    "            res.append(0)\n",
    "    return res\n"
   ]
  },
  {
   "cell_type": "code",
   "execution_count": 74,
   "metadata": {
    "collapsed": false
   },
   "outputs": [
    {
     "name": "stdout",
     "output_type": "stream",
     "text": [
      "Real is  8297  and we found  4445  locations\n"
     ]
    }
   ],
   "source": [
    "result = gazetteer(train['Word'] , gazloc)\n",
    "x = train['LOC'] - result\n",
    "print ('Real is ',sum(train['LOC']),' and we found ',sum(x),' locations')"
   ]
  },
  {
   "cell_type": "code",
   "execution_count": 75,
   "metadata": {
    "collapsed": false
   },
   "outputs": [
    {
     "name": "stdout",
     "output_type": "stream",
     "text": [
      "Real is  11128  and we found  5365  persons\n"
     ]
    }
   ],
   "source": [
    "result = gazetteer(train['Word'] , gazper)\n",
    "x = train['PER'] - result\n",
    "print ('Real is ',sum(train['PER']),' and we found ',sum(x), ' persons')"
   ]
  },
  {
   "cell_type": "code",
   "execution_count": 76,
   "metadata": {
    "collapsed": false
   },
   "outputs": [
    {
     "name": "stdout",
     "output_type": "stream",
     "text": [
      "Real is  4593  and we found  3173  miscellaneous\n"
     ]
    }
   ],
   "source": [
    "result = gazetteer(train['Word'] , gazmisc)\n",
    "x = train['MISC'] - result\n",
    "print ('Real is ',sum(train['MISC']),' and we found ',sum(x), ' miscellaneous')"
   ]
  },
  {
   "cell_type": "markdown",
   "metadata": {},
   "source": [
    "Format BIO:\n",
    "\n",
    "Before\n",
    "Inside\n",
    "Outside"
   ]
  },
  {
   "cell_type": "code",
   "execution_count": 77,
   "metadata": {
    "collapsed": false
   },
   "outputs": [],
   "source": [
    "def capitalize(text):\n",
    "    cap = []\n",
    "    for x in text:\n",
    "        if x[0].isupper():\n",
    "            cap.append(1)\n",
    "        else : \n",
    "            cap.append(0)\n",
    "    return cap\n",
    "\n",
    "#capitalize(['.','EU','Germany','represents'])"
   ]
  },
  {
   "cell_type": "code",
   "execution_count": 78,
   "metadata": {
    "collapsed": true
   },
   "outputs": [],
   "source": [
    "def fullcap(text):\n",
    "    cap = []\n",
    "    for x in text:\n",
    "        if x.isupper():\n",
    "            cap.append(1)\n",
    "        else : \n",
    "            cap.append(0)\n",
    "    return cap"
   ]
  },
  {
   "cell_type": "code",
   "execution_count": 79,
   "metadata": {
    "collapsed": true
   },
   "outputs": [],
   "source": [
    "def length(text):\n",
    "    length = []\n",
    "    for x in text:\n",
    "        length.append(len(x))\n",
    "    return length"
   ]
  },
  {
   "cell_type": "code",
   "execution_count": 80,
   "metadata": {
    "collapsed": false
   },
   "outputs": [],
   "source": [
    "train['leng'] = length(train['Word']) "
   ]
  },
  {
   "cell_type": "code",
   "execution_count": 81,
   "metadata": {
    "collapsed": false
   },
   "outputs": [],
   "source": [
    "train['Cap']=capitalize(train['Word'])"
   ]
  },
  {
   "cell_type": "code",
   "execution_count": 82,
   "metadata": {
    "collapsed": true
   },
   "outputs": [],
   "source": [
    "train['Cap2']=fullcap(train['Word'])"
   ]
  },
  {
   "cell_type": "code",
   "execution_count": 83,
   "metadata": {
    "collapsed": false
   },
   "outputs": [],
   "source": [
    "POStag = train['POStag'].tolist()\n",
    "BPOStag = train['POStag'].tolist()\n",
    "OPOStag = train['POStag'].tolist()\n",
    "\n",
    "m = len(train['Word'])-1\n",
    "for i in range(1,m):\n",
    "    BPOStag[i] = POStag[i-1]\n",
    "    OPOStag[i] = POStag[i+1]\n",
    "    \n",
    "train['BPOStag'] = BPOStag\n",
    "train['OPOStag'] = OPOStag"
   ]
  },
  {
   "cell_type": "code",
   "execution_count": 84,
   "metadata": {
    "collapsed": false
   },
   "outputs": [],
   "source": [
    "train['GAZMISC'] = gazetteer(train['Word'] , gazmisc)\n",
    "train['GAZPER'] = gazetteer(train['Word'] , gazper)\n",
    "train['GAZLOC'] = gazetteer(train['Word'] , gazloc)"
   ]
  },
  {
   "cell_type": "code",
   "execution_count": 85,
   "metadata": {
    "collapsed": false,
    "scrolled": true
   },
   "outputs": [
    {
     "data": {
      "text/html": [
       "<div>\n",
       "<table border=\"1\" class=\"dataframe\">\n",
       "  <thead>\n",
       "    <tr style=\"text-align: right;\">\n",
       "      <th></th>\n",
       "      <th>Word</th>\n",
       "      <th>POStag</th>\n",
       "      <th>CHUNKtag</th>\n",
       "      <th>NEtag</th>\n",
       "      <th>ORG</th>\n",
       "      <th>LOC</th>\n",
       "      <th>MISC</th>\n",
       "      <th>PER</th>\n",
       "      <th>leng</th>\n",
       "      <th>Cap</th>\n",
       "      <th>Cap2</th>\n",
       "      <th>BPOStag</th>\n",
       "      <th>OPOStag</th>\n",
       "      <th>GAZMISC</th>\n",
       "      <th>GAZPER</th>\n",
       "      <th>GAZLOC</th>\n",
       "    </tr>\n",
       "  </thead>\n",
       "  <tbody>\n",
       "    <tr>\n",
       "      <th>0</th>\n",
       "      <td>-DOCSTART-</td>\n",
       "      <td>-X-</td>\n",
       "      <td>-X-</td>\n",
       "      <td>O</td>\n",
       "      <td>0</td>\n",
       "      <td>0</td>\n",
       "      <td>0</td>\n",
       "      <td>0</td>\n",
       "      <td>10</td>\n",
       "      <td>0</td>\n",
       "      <td>1</td>\n",
       "      <td>-X-</td>\n",
       "      <td>-X-</td>\n",
       "      <td>0</td>\n",
       "      <td>0</td>\n",
       "      <td>0</td>\n",
       "    </tr>\n",
       "    <tr>\n",
       "      <th>1</th>\n",
       "      <td>EU</td>\n",
       "      <td>NNP</td>\n",
       "      <td>I-NP</td>\n",
       "      <td>I-ORG</td>\n",
       "      <td>1</td>\n",
       "      <td>0</td>\n",
       "      <td>0</td>\n",
       "      <td>0</td>\n",
       "      <td>2</td>\n",
       "      <td>1</td>\n",
       "      <td>1</td>\n",
       "      <td>-X-</td>\n",
       "      <td>VBZ</td>\n",
       "      <td>0</td>\n",
       "      <td>0</td>\n",
       "      <td>0</td>\n",
       "    </tr>\n",
       "    <tr>\n",
       "      <th>2</th>\n",
       "      <td>rejects</td>\n",
       "      <td>VBZ</td>\n",
       "      <td>I-VP</td>\n",
       "      <td>O</td>\n",
       "      <td>0</td>\n",
       "      <td>0</td>\n",
       "      <td>0</td>\n",
       "      <td>0</td>\n",
       "      <td>7</td>\n",
       "      <td>0</td>\n",
       "      <td>0</td>\n",
       "      <td>NNP</td>\n",
       "      <td>JJ</td>\n",
       "      <td>0</td>\n",
       "      <td>0</td>\n",
       "      <td>0</td>\n",
       "    </tr>\n",
       "    <tr>\n",
       "      <th>3</th>\n",
       "      <td>German</td>\n",
       "      <td>JJ</td>\n",
       "      <td>I-NP</td>\n",
       "      <td>I-MISC</td>\n",
       "      <td>0</td>\n",
       "      <td>0</td>\n",
       "      <td>1</td>\n",
       "      <td>0</td>\n",
       "      <td>6</td>\n",
       "      <td>1</td>\n",
       "      <td>0</td>\n",
       "      <td>VBZ</td>\n",
       "      <td>NN</td>\n",
       "      <td>1</td>\n",
       "      <td>0</td>\n",
       "      <td>0</td>\n",
       "    </tr>\n",
       "    <tr>\n",
       "      <th>4</th>\n",
       "      <td>call</td>\n",
       "      <td>NN</td>\n",
       "      <td>I-NP</td>\n",
       "      <td>O</td>\n",
       "      <td>0</td>\n",
       "      <td>0</td>\n",
       "      <td>0</td>\n",
       "      <td>0</td>\n",
       "      <td>4</td>\n",
       "      <td>0</td>\n",
       "      <td>0</td>\n",
       "      <td>JJ</td>\n",
       "      <td>TO</td>\n",
       "      <td>0</td>\n",
       "      <td>0</td>\n",
       "      <td>0</td>\n",
       "    </tr>\n",
       "  </tbody>\n",
       "</table>\n",
       "</div>"
      ],
      "text/plain": [
       "         Word POStag CHUNKtag   NEtag  ORG  LOC  MISC  PER  leng  Cap  Cap2  \\\n",
       "0  -DOCSTART-    -X-      -X-       O    0    0     0    0    10    0     1   \n",
       "1          EU    NNP     I-NP   I-ORG    1    0     0    0     2    1     1   \n",
       "2     rejects    VBZ     I-VP       O    0    0     0    0     7    0     0   \n",
       "3      German     JJ     I-NP  I-MISC    0    0     1    0     6    1     0   \n",
       "4        call     NN     I-NP       O    0    0     0    0     4    0     0   \n",
       "\n",
       "  BPOStag OPOStag  GAZMISC  GAZPER  GAZLOC  \n",
       "0     -X-     -X-        0       0       0  \n",
       "1     -X-     VBZ        0       0       0  \n",
       "2     NNP      JJ        0       0       0  \n",
       "3     VBZ      NN        1       0       0  \n",
       "4      JJ      TO        0       0       0  "
      ]
     },
     "execution_count": 85,
     "metadata": {},
     "output_type": "execute_result"
    }
   ],
   "source": [
    "train.head()"
   ]
  },
  {
   "cell_type": "markdown",
   "metadata": {},
   "source": [
    "# Preprocess test"
   ]
  },
  {
   "cell_type": "code",
   "execution_count": 141,
   "metadata": {
    "collapsed": true
   },
   "outputs": [],
   "source": [
    "word = []\n",
    "for x in testa['Word']:\n",
    "    word.append(str(x))\n",
    "\n",
    "testa['Word']=word"
   ]
  },
  {
   "cell_type": "code",
   "execution_count": 142,
   "metadata": {
    "collapsed": false
   },
   "outputs": [],
   "source": [
    "preprocess(testa)"
   ]
  },
  {
   "cell_type": "code",
   "execution_count": 170,
   "metadata": {
    "collapsed": false
   },
   "outputs": [],
   "source": [
    "POStag = testa['POStag'].tolist()\n",
    "\n",
    "for index, item in enumerate(POStag):\n",
    "    if item == 'O' :\n",
    "        POStag[index] = '-X-'\n",
    "        \n",
    "testa['POStag'] = POStag"
   ]
  },
  {
   "cell_type": "code",
   "execution_count": 171,
   "metadata": {
    "collapsed": false
   },
   "outputs": [],
   "source": [
    "POStag = testa['POStag'].tolist()\n",
    "BPOStag = testa['POStag'].tolist()\n",
    "OPOStag = testa['POStag'].tolist()\n",
    "\n",
    "m = len(testa['Word'])-1\n",
    "for i in range(1,m):\n",
    "    BPOStag[i] = POStag[i-1]\n",
    "    OPOStag[i] = POStag[i+1]\n",
    "    \n",
    "testa['BPOStag'] = BPOStag\n",
    "testa['OPOStag'] = OPOStag"
   ]
  },
  {
   "cell_type": "code",
   "execution_count": 172,
   "metadata": {
    "collapsed": false
   },
   "outputs": [
    {
     "data": {
      "text/html": [
       "<div>\n",
       "<table border=\"1\" class=\"dataframe\">\n",
       "  <thead>\n",
       "    <tr style=\"text-align: right;\">\n",
       "      <th></th>\n",
       "      <th>B-MISC</th>\n",
       "      <th>I-LOC</th>\n",
       "      <th>I-MISC</th>\n",
       "      <th>I-ORG</th>\n",
       "      <th>I-PER</th>\n",
       "      <th>O</th>\n",
       "    </tr>\n",
       "  </thead>\n",
       "  <tbody>\n",
       "    <tr>\n",
       "      <th>0</th>\n",
       "      <td>0</td>\n",
       "      <td>0</td>\n",
       "      <td>0</td>\n",
       "      <td>0</td>\n",
       "      <td>0</td>\n",
       "      <td>1</td>\n",
       "    </tr>\n",
       "    <tr>\n",
       "      <th>1</th>\n",
       "      <td>0</td>\n",
       "      <td>0</td>\n",
       "      <td>0</td>\n",
       "      <td>0</td>\n",
       "      <td>0</td>\n",
       "      <td>1</td>\n",
       "    </tr>\n",
       "    <tr>\n",
       "      <th>2</th>\n",
       "      <td>0</td>\n",
       "      <td>0</td>\n",
       "      <td>0</td>\n",
       "      <td>0</td>\n",
       "      <td>0</td>\n",
       "      <td>1</td>\n",
       "    </tr>\n",
       "    <tr>\n",
       "      <th>3</th>\n",
       "      <td>0</td>\n",
       "      <td>0</td>\n",
       "      <td>0</td>\n",
       "      <td>1</td>\n",
       "      <td>0</td>\n",
       "      <td>0</td>\n",
       "    </tr>\n",
       "    <tr>\n",
       "      <th>4</th>\n",
       "      <td>0</td>\n",
       "      <td>0</td>\n",
       "      <td>0</td>\n",
       "      <td>0</td>\n",
       "      <td>0</td>\n",
       "      <td>1</td>\n",
       "    </tr>\n",
       "  </tbody>\n",
       "</table>\n",
       "</div>"
      ],
      "text/plain": [
       "   B-MISC  I-LOC  I-MISC  I-ORG  I-PER  O\n",
       "0       0      0       0      0      0  1\n",
       "1       0      0       0      0      0  1\n",
       "2       0      0       0      0      0  1\n",
       "3       0      0       0      1      0  0\n",
       "4       0      0       0      0      0  1"
      ]
     },
     "execution_count": 172,
     "metadata": {},
     "output_type": "execute_result"
    }
   ],
   "source": [
    "sparse = pd.get_dummies(testa['NEtag'])\n",
    "sparse.head()"
   ]
  },
  {
   "cell_type": "code",
   "execution_count": 173,
   "metadata": {
    "collapsed": false
   },
   "outputs": [],
   "source": [
    "sparse = pd.get_dummies(testa['NEtag'])\n",
    "sparse.drop(sparse.columns[5], axis=1, inplace=True)\n",
    "testa['ORG'] = sparse['I-ORG'] \n",
    "testa['LOC'] = sparse['I-LOC'] \n",
    "testa['MISC'] = sparse['I-MISC'] + sparse['B-MISC']\n",
    "testa['PER'] = sparse['I-PER']"
   ]
  },
  {
   "cell_type": "code",
   "execution_count": 174,
   "metadata": {
    "collapsed": false,
    "scrolled": true
   },
   "outputs": [
    {
     "data": {
      "text/html": [
       "<div>\n",
       "<table border=\"1\" class=\"dataframe\">\n",
       "  <thead>\n",
       "    <tr style=\"text-align: right;\">\n",
       "      <th></th>\n",
       "      <th>Word</th>\n",
       "      <th>POStag</th>\n",
       "      <th>CHUNKtag</th>\n",
       "      <th>NEtag</th>\n",
       "      <th>Cap</th>\n",
       "      <th>Cap2</th>\n",
       "      <th>leng</th>\n",
       "      <th>GAZMISC</th>\n",
       "      <th>GAZPER</th>\n",
       "      <th>GAZLOC</th>\n",
       "      <th>BPOStag</th>\n",
       "      <th>OPOStag</th>\n",
       "      <th>ORG</th>\n",
       "      <th>LOC</th>\n",
       "      <th>MISC</th>\n",
       "      <th>PER</th>\n",
       "    </tr>\n",
       "  </thead>\n",
       "  <tbody>\n",
       "    <tr>\n",
       "      <th>0</th>\n",
       "      <td>-DOCSTART-</td>\n",
       "      <td>-X-</td>\n",
       "      <td>-X-</td>\n",
       "      <td>O</td>\n",
       "      <td>0</td>\n",
       "      <td>1</td>\n",
       "      <td>10</td>\n",
       "      <td>0</td>\n",
       "      <td>0</td>\n",
       "      <td>0</td>\n",
       "      <td>-X-</td>\n",
       "      <td>-X-</td>\n",
       "      <td>0</td>\n",
       "      <td>0</td>\n",
       "      <td>0</td>\n",
       "      <td>0</td>\n",
       "    </tr>\n",
       "    <tr>\n",
       "      <th>1</th>\n",
       "      <td>CRICKET</td>\n",
       "      <td>NNP</td>\n",
       "      <td>I-NP</td>\n",
       "      <td>O</td>\n",
       "      <td>1</td>\n",
       "      <td>1</td>\n",
       "      <td>7</td>\n",
       "      <td>0</td>\n",
       "      <td>0</td>\n",
       "      <td>0</td>\n",
       "      <td>-X-</td>\n",
       "      <td>:</td>\n",
       "      <td>0</td>\n",
       "      <td>0</td>\n",
       "      <td>0</td>\n",
       "      <td>0</td>\n",
       "    </tr>\n",
       "    <tr>\n",
       "      <th>2</th>\n",
       "      <td>-</td>\n",
       "      <td>:</td>\n",
       "      <td>O</td>\n",
       "      <td>O</td>\n",
       "      <td>0</td>\n",
       "      <td>0</td>\n",
       "      <td>1</td>\n",
       "      <td>0</td>\n",
       "      <td>0</td>\n",
       "      <td>0</td>\n",
       "      <td>NNP</td>\n",
       "      <td>NNP</td>\n",
       "      <td>0</td>\n",
       "      <td>0</td>\n",
       "      <td>0</td>\n",
       "      <td>0</td>\n",
       "    </tr>\n",
       "    <tr>\n",
       "      <th>3</th>\n",
       "      <td>LEICESTERSHIRE</td>\n",
       "      <td>NNP</td>\n",
       "      <td>I-NP</td>\n",
       "      <td>I-ORG</td>\n",
       "      <td>1</td>\n",
       "      <td>1</td>\n",
       "      <td>14</td>\n",
       "      <td>0</td>\n",
       "      <td>0</td>\n",
       "      <td>0</td>\n",
       "      <td>:</td>\n",
       "      <td>NNP</td>\n",
       "      <td>1</td>\n",
       "      <td>0</td>\n",
       "      <td>0</td>\n",
       "      <td>0</td>\n",
       "    </tr>\n",
       "    <tr>\n",
       "      <th>4</th>\n",
       "      <td>TAKE</td>\n",
       "      <td>NNP</td>\n",
       "      <td>I-NP</td>\n",
       "      <td>O</td>\n",
       "      <td>1</td>\n",
       "      <td>1</td>\n",
       "      <td>4</td>\n",
       "      <td>0</td>\n",
       "      <td>0</td>\n",
       "      <td>0</td>\n",
       "      <td>NNP</td>\n",
       "      <td>IN</td>\n",
       "      <td>0</td>\n",
       "      <td>0</td>\n",
       "      <td>0</td>\n",
       "      <td>0</td>\n",
       "    </tr>\n",
       "  </tbody>\n",
       "</table>\n",
       "</div>"
      ],
      "text/plain": [
       "             Word POStag CHUNKtag  NEtag  Cap  Cap2  leng  GAZMISC  GAZPER  \\\n",
       "0      -DOCSTART-    -X-      -X-      O    0     1    10        0       0   \n",
       "1         CRICKET    NNP     I-NP      O    1     1     7        0       0   \n",
       "2               -      :        O      O    0     0     1        0       0   \n",
       "3  LEICESTERSHIRE    NNP     I-NP  I-ORG    1     1    14        0       0   \n",
       "4            TAKE    NNP     I-NP      O    1     1     4        0       0   \n",
       "\n",
       "   GAZLOC BPOStag OPOStag  ORG  LOC  MISC  PER  \n",
       "0       0     -X-     -X-    0    0     0    0  \n",
       "1       0     -X-       :    0    0     0    0  \n",
       "2       0     NNP     NNP    0    0     0    0  \n",
       "3       0       :     NNP    1    0     0    0  \n",
       "4       0     NNP      IN    0    0     0    0  "
      ]
     },
     "execution_count": 174,
     "metadata": {},
     "output_type": "execute_result"
    }
   ],
   "source": [
    "testa.head()"
   ]
  },
  {
   "cell_type": "code",
   "execution_count": 175,
   "metadata": {
    "collapsed": true
   },
   "outputs": [],
   "source": [
    "datatest = testa.drop(['Word','NEtag','ORG','LOC','MISC','PER'], axis=1)\n",
    "sparse = pd.get_dummies(datatest.iloc[:,[0,1,8,9]])\n",
    "datatest.drop(['POStag','OPOStag','BPOStag','CHUNKtag'] , axis=1 , inplace=True)\n",
    "datatest = pd.concat([datatest , sparse] , axis=1)"
   ]
  },
  {
   "cell_type": "code",
   "execution_count": 176,
   "metadata": {
    "collapsed": false
   },
   "outputs": [],
   "source": [
    "targettest = testa.iloc[:,12:16]"
   ]
  },
  {
   "cell_type": "markdown",
   "metadata": {
    "collapsed": true
   },
   "source": [
    "# Prédiction"
   ]
  },
  {
   "cell_type": "code",
   "execution_count": 131,
   "metadata": {
    "collapsed": false
   },
   "outputs": [],
   "source": [
    "data = train.drop(['Word','NEtag','ORG','LOC','MISC','PER'], axis=1)\n",
    "sparse = pd.get_dummies(data.iloc[:,[0,1,5,6]])\n",
    "data.drop(['POStag','OPOStag','BPOStag','CHUNKtag'] , axis=1 , inplace=True)\n",
    "data = pd.concat([data , sparse] , axis=1)"
   ]
  },
  {
   "cell_type": "code",
   "execution_count": 132,
   "metadata": {
    "collapsed": false
   },
   "outputs": [],
   "source": [
    "target = train.iloc[:,4:8]"
   ]
  },
  {
   "cell_type": "code",
   "execution_count": 133,
   "metadata": {
    "collapsed": false
   },
   "outputs": [
    {
     "data": {
      "text/html": [
       "<div>\n",
       "<table border=\"1\" class=\"dataframe\">\n",
       "  <thead>\n",
       "    <tr style=\"text-align: right;\">\n",
       "      <th></th>\n",
       "      <th>ORG</th>\n",
       "      <th>LOC</th>\n",
       "      <th>MISC</th>\n",
       "      <th>PER</th>\n",
       "    </tr>\n",
       "  </thead>\n",
       "  <tbody>\n",
       "    <tr>\n",
       "      <th>0</th>\n",
       "      <td>0</td>\n",
       "      <td>0</td>\n",
       "      <td>0</td>\n",
       "      <td>0</td>\n",
       "    </tr>\n",
       "    <tr>\n",
       "      <th>1</th>\n",
       "      <td>1</td>\n",
       "      <td>0</td>\n",
       "      <td>0</td>\n",
       "      <td>0</td>\n",
       "    </tr>\n",
       "    <tr>\n",
       "      <th>2</th>\n",
       "      <td>0</td>\n",
       "      <td>0</td>\n",
       "      <td>0</td>\n",
       "      <td>0</td>\n",
       "    </tr>\n",
       "    <tr>\n",
       "      <th>3</th>\n",
       "      <td>0</td>\n",
       "      <td>0</td>\n",
       "      <td>1</td>\n",
       "      <td>0</td>\n",
       "    </tr>\n",
       "    <tr>\n",
       "      <th>4</th>\n",
       "      <td>0</td>\n",
       "      <td>0</td>\n",
       "      <td>0</td>\n",
       "      <td>0</td>\n",
       "    </tr>\n",
       "  </tbody>\n",
       "</table>\n",
       "</div>"
      ],
      "text/plain": [
       "   ORG  LOC  MISC  PER\n",
       "0    0    0     0    0\n",
       "1    1    0     0    0\n",
       "2    0    0     0    0\n",
       "3    0    0     1    0\n",
       "4    0    0     0    0"
      ]
     },
     "execution_count": 133,
     "metadata": {},
     "output_type": "execute_result"
    }
   ],
   "source": [
    "target.head()"
   ]
  },
  {
   "cell_type": "code",
   "execution_count": 180,
   "metadata": {
    "collapsed": false,
    "scrolled": true
   },
   "outputs": [
    {
     "name": "stdout",
     "output_type": "stream",
     "text": [
      "0.945954759717\n",
      "0.836713327388\n",
      "time : 7.388756036758423\n"
     ]
    }
   ],
   "source": [
    "start = time.time()\n",
    "model = RandomForestClassifier()\n",
    "model.fit(data , target)\n",
    "end = time.time()\n",
    "print(model.score(data , target))\n",
    "predict = model.predict(datatest)\n",
    "print(metrics.accuracy_score(targettest, predict))\n",
    "print ('time :', end - start)"
   ]
  },
  {
   "cell_type": "code",
   "execution_count": 183,
   "metadata": {
    "collapsed": false,
    "scrolled": true
   },
   "outputs": [
    {
     "name": "stdout",
     "output_type": "stream",
     "text": [
      "             precision    recall  f1-score   support\n",
      "\n",
      "          0       0.04      0.35      0.07       233\n",
      "          1       0.02      0.98      0.04        48\n",
      "          2       0.02      0.91      0.03        23\n",
      "          3       0.01      0.98      0.03        42\n",
      "\n",
      "avg / total       0.03      0.55      0.06       346\n",
      "\n"
     ]
    }
   ],
   "source": [
    "print(metrics.classification_report(targettest , predict))"
   ]
  },
  {
   "cell_type": "code",
   "execution_count": 1,
   "metadata": {
    "collapsed": false
   },
   "outputs": [
    {
     "ename": "NameError",
     "evalue": "name 'predict' is not defined",
     "output_type": "error",
     "traceback": [
      "\u001b[0;31m---------------------------------------------------------------------------\u001b[0m",
      "\u001b[0;31mNameError\u001b[0m                                 Traceback (most recent call last)",
      "\u001b[0;32m<ipython-input-1-3c63c8ca671c>\u001b[0m in \u001b[0;36m<module>\u001b[0;34m()\u001b[0m\n\u001b[0;32m----> 1\u001b[0;31m \u001b[0mprint\u001b[0m\u001b[0;34m(\u001b[0m\u001b[0msum\u001b[0m\u001b[0;34m(\u001b[0m\u001b[0mpredict\u001b[0m\u001b[0;34m)\u001b[0m\u001b[0;34m)\u001b[0m\u001b[0;34m\u001b[0m\u001b[0m\n\u001b[0m\u001b[1;32m      2\u001b[0m \u001b[0mprint\u001b[0m\u001b[0;34m(\u001b[0m\u001b[0msum\u001b[0m\u001b[0;34m(\u001b[0m\u001b[0mtargettest\u001b[0m\u001b[0;34m[\u001b[0m\u001b[0;34m'ORG'\u001b[0m\u001b[0;34m]\u001b[0m\u001b[0;34m)\u001b[0m\u001b[0;34m,\u001b[0m \u001b[0msum\u001b[0m\u001b[0;34m(\u001b[0m\u001b[0mtargettest\u001b[0m\u001b[0;34m[\u001b[0m\u001b[0;34m'LOC'\u001b[0m\u001b[0;34m]\u001b[0m\u001b[0;34m)\u001b[0m\u001b[0;34m,\u001b[0m \u001b[0msum\u001b[0m\u001b[0;34m(\u001b[0m\u001b[0mtargettest\u001b[0m\u001b[0;34m[\u001b[0m\u001b[0;34m'MISC'\u001b[0m\u001b[0;34m]\u001b[0m\u001b[0;34m)\u001b[0m\u001b[0;34m,\u001b[0m \u001b[0msum\u001b[0m\u001b[0;34m(\u001b[0m\u001b[0;34m[\u001b[0m\u001b[0;34m'PER'\u001b[0m\u001b[0;34m]\u001b[0m\u001b[0;34m)\u001b[0m\u001b[0;34m)\u001b[0m\u001b[0;34m\u001b[0m\u001b[0m\n",
      "\u001b[0;31mNameError\u001b[0m: name 'predict' is not defined"
     ]
    }
   ],
   "source": [
    "print(sum(predict))\n",
    "print(sum(targettest['ORG']), sum(targettest['LOC']), sum(targettest['MISC']), sum(['PER']))"
   ]
  },
  {
   "cell_type": "markdown",
   "metadata": {},
   "source": [
    "Gazetteer ConLL\n",
    "Passer le truc en script\n",
    "Fabriquer des gazetteers dans d'autres langues"
   ]
  },
  {
   "cell_type": "code",
   "execution_count": 138,
   "metadata": {
    "collapsed": true
   },
   "outputs": [],
   "source": [
    "def capitalize(text):\n",
    "    cap = []\n",
    "    for x in text:\n",
    "        if x[0].isupper():\n",
    "            cap.append(1)\n",
    "        else : \n",
    "            cap.append(0)\n",
    "    return cap\n",
    "\n",
    "def fullcap(text):\n",
    "    cap = []\n",
    "    for x in text:\n",
    "        if x.isupper():\n",
    "            cap.append(1)\n",
    "        else : \n",
    "            cap.append(0)\n",
    "    return cap\n",
    "\n",
    "def length(text):\n",
    "    length = []\n",
    "    for x in text:\n",
    "        length.append(len(x))\n",
    "    return length\n",
    "\n",
    "def gazetteer( text , ref ):\n",
    "    res = []\n",
    "    for word in text:\n",
    "        if word in ref :\n",
    "            res.append(1)\n",
    "        else :\n",
    "            res.append(0)\n",
    "    return res\n",
    "\n",
    "def preprocess(data):\n",
    "    data['Cap']=capitalize(data['Word'])\n",
    "    data['Cap2']=fullcap(data['Word'])\n",
    "    data['leng'] = length(data['Word'])\n",
    "    data['GAZMISC'] = gazetteer(data['Word'] , gazmisc)\n",
    "    data['GAZPER'] = gazetteer(data['Word'] , gazper)\n",
    "    data['GAZLOC'] = gazetteer(data['Word'] , gazloc) "
   ]
  },
  {
   "cell_type": "code",
   "execution_count": null,
   "metadata": {
    "collapsed": true
   },
   "outputs": [],
   "source": []
  },
  {
   "cell_type": "code",
   "execution_count": null,
   "metadata": {
    "collapsed": true
   },
   "outputs": [],
   "source": []
  },
  {
   "cell_type": "code",
   "execution_count": null,
   "metadata": {
    "collapsed": true
   },
   "outputs": [],
   "source": []
  },
  {
   "cell_type": "code",
   "execution_count": null,
   "metadata": {
    "collapsed": true
   },
   "outputs": [],
   "source": []
  },
  {
   "cell_type": "code",
   "execution_count": null,
   "metadata": {
    "collapsed": true
   },
   "outputs": [],
   "source": []
  },
  {
   "cell_type": "code",
   "execution_count": null,
   "metadata": {
    "collapsed": false
   },
   "outputs": [],
   "source": [
    "start = time.time()\n",
    "mul_lr = linear_model.LogisticRegression(multi_class='multinomial', solver='saga').fit(words, NE)\n",
    "print(mul_lr.score(words , sparse))\n",
    "end = time.time()\n",
    "print ('time :', end - start)"
   ]
  },
  {
   "cell_type": "code",
   "execution_count": null,
   "metadata": {
    "collapsed": true
   },
   "outputs": [],
   "source": []
  },
  {
   "cell_type": "code",
   "execution_count": null,
   "metadata": {
    "collapsed": true
   },
   "outputs": [],
   "source": []
  }
 ],
 "metadata": {
  "kernelspec": {
   "display_name": "Python 3",
   "language": "python",
   "name": "python3"
  },
  "language_info": {
   "codemirror_mode": {
    "name": "ipython",
    "version": 3
   },
   "file_extension": ".py",
   "mimetype": "text/x-python",
   "name": "python",
   "nbconvert_exporter": "python",
   "pygments_lexer": "ipython3",
   "version": "3.6.0"
  }
 },
 "nbformat": 4,
 "nbformat_minor": 2
}
